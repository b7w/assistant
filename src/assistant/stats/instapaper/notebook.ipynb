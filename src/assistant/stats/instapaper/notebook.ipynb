{
 "cells": [
  {
   "cell_type": "code",
   "execution_count": 1,
   "metadata": {},
   "outputs": [],
   "source": [
    "import pandas as pd\n",
    "import numpy as np\n"
   ]
  },
  {
   "cell_type": "code",
   "execution_count": 2,
   "metadata": {},
   "outputs": [],
   "source": [
    "from urllib.parse import urlparse\n",
    "from datetime import timedelta"
   ]
  },
  {
   "cell_type": "code",
   "execution_count": 3,
   "metadata": {},
   "outputs": [],
   "source": [
    "df_raw = pd.read_json('instapaper-export.json')"
   ]
  },
  {
   "cell_type": "code",
   "execution_count": 4,
   "metadata": {},
   "outputs": [
    {
     "data": {
      "text/plain": [
       "2153"
      ]
     },
     "execution_count": 4,
     "metadata": {},
     "output_type": "execute_result"
    }
   ],
   "source": [
    "len(df_raw.index)"
   ]
  },
  {
   "cell_type": "code",
   "execution_count": 5,
   "metadata": {},
   "outputs": [
    {
     "data": {
      "text/plain": [
       "'date_shift, preview, reading_time, starred, tag, title, url'"
      ]
     },
     "execution_count": 5,
     "metadata": {},
     "output_type": "execute_result"
    }
   ],
   "source": [
    "', '.join(df_raw.columns)"
   ]
  },
  {
   "cell_type": "code",
   "execution_count": 6,
   "metadata": {},
   "outputs": [],
   "source": [
    "df_raw['hostname'] = df_raw.apply(lambda r: urlparse(r['url']).hostname, axis='columns')\n"
   ]
  },
  {
   "cell_type": "code",
   "execution_count": 7,
   "metadata": {},
   "outputs": [],
   "source": [
    "def parse_date_shift(x):\n",
    "    x = x.replace('ago', '').replace('Today', '1 days').replace('Yesterday', '2 days')\n",
    "    x = x.strip()\n",
    "    n, f = x.split()\n",
    "    n = int(n)\n",
    "    if 'day' in f:\n",
    "        return n\n",
    "    if 'week' in f:\n",
    "        return n * 7\n",
    "    if 'month' in f:\n",
    "        return n * 31\n",
    "    if 'year' in f:\n",
    "        return n * 365\n",
    "    return None\n",
    "\n",
    "df_raw['days_ago'] = df_raw['date_shift'].apply(parse_date_shift)"
   ]
  },
  {
   "cell_type": "code",
   "execution_count": 8,
   "metadata": {},
   "outputs": [],
   "source": [
    "def parse_read_time(x):\n",
    "    \"\"\"\n",
    "    1 of 2 min remaining | 2 min\n",
    "    \"\"\"\n",
    "    if x:\n",
    "        if 'of' in x:\n",
    "            return int(x.split()[2])\n",
    "        return int(x.split()[0])\n",
    "    return None\n",
    "\n",
    "df_raw['read_time'] = df_raw['reading_time'].apply(parse_read_time)"
   ]
  },
  {
   "cell_type": "markdown",
   "metadata": {},
   "source": [
    "Берем данные за последний год"
   ]
  },
  {
   "cell_type": "code",
   "execution_count": 9,
   "metadata": {},
   "outputs": [],
   "source": [
    "df = df_raw[df_raw['days_ago'] < 366]"
   ]
  },
  {
   "cell_type": "markdown",
   "metadata": {},
   "source": [
    "Смотрим количество постов"
   ]
  },
  {
   "cell_type": "code",
   "execution_count": 10,
   "metadata": {},
   "outputs": [
    {
     "data": {
      "text/plain": [
       "1039"
      ]
     },
     "execution_count": 10,
     "metadata": {},
     "output_type": "execute_result"
    }
   ],
   "source": [
    "len(df.index)"
   ]
  },
  {
   "cell_type": "code",
   "execution_count": 11,
   "metadata": {},
   "outputs": [
    {
     "data": {
      "text/plain": [
       "288"
      ]
     },
     "execution_count": 11,
     "metadata": {},
     "output_type": "execute_result"
    }
   ],
   "source": [
    "len(df[df['starred']].index)"
   ]
  },
  {
   "cell_type": "code",
   "execution_count": 12,
   "metadata": {},
   "outputs": [
    {
     "data": {
      "text/plain": [
       "tag\n",
       "Favorites     39\n",
       "Look           5\n",
       "archive      995\n",
       "Name: url, dtype: int64"
      ]
     },
     "execution_count": 12,
     "metadata": {},
     "output_type": "execute_result"
    }
   ],
   "source": [
    "df.groupby('tag')['url'].count()"
   ]
  },
  {
   "cell_type": "markdown",
   "metadata": {},
   "source": [
    "Выбираем 16 наиболее читаемых сайтов"
   ]
  },
  {
   "cell_type": "code",
   "execution_count": 13,
   "metadata": {},
   "outputs": [
    {
     "data": {
      "text/plain": [
       "hostname\n",
       "habrahabr.ru             315\n",
       "geektimes.ru             123\n",
       "baguzin.ru                42\n",
       "github.com                37\n",
       "medium.com                29\n",
       "blog.jetbrains.com        25\n",
       "www.cockroachlabs.com     24\n",
       "www.yegor256.com          21\n",
       "coreos.com                17\n",
       "www.dpreview.com          16\n",
       "aws.amazon.com            15\n",
       "www.mirantis.com          15\n",
       "www.youtube.com           13\n",
       "ru.wikipedia.org          11\n",
       "blog.rust-lang.org        10\n",
       "eax.me                    10\n",
       "Name: url, dtype: int64"
      ]
     },
     "execution_count": 13,
     "metadata": {},
     "output_type": "execute_result"
    }
   ],
   "source": [
    "df.groupby(['hostname'])['url'].count().nlargest(16)\n"
   ]
  },
  {
   "cell_type": "markdown",
   "metadata": {},
   "source": [
    "Выбираем 16 наиболее читаемых сайтов из отмеченных постов"
   ]
  },
  {
   "cell_type": "code",
   "execution_count": 14,
   "metadata": {},
   "outputs": [
    {
     "data": {
      "text/plain": [
       "hostname\n",
       "habrahabr.ru             81\n",
       "geektimes.ru             39\n",
       "baguzin.ru               17\n",
       "medium.com               13\n",
       "www.cockroachlabs.com    12\n",
       "github.com               10\n",
       "aws.amazon.com            6\n",
       "blog.jetbrains.com        4\n",
       "blog.rust-lang.org        4\n",
       "dz.livejournal.com        4\n",
       "www.mirantis.com          4\n",
       "www.scylladb.com          4\n",
       "www.yegor256.com          4\n",
       "exonum.com                3\n",
       "morepypy.blogspot.com     3\n",
       "ru.wikipedia.org          3\n",
       "Name: url, dtype: int64"
      ]
     },
     "execution_count": 14,
     "metadata": {},
     "output_type": "execute_result"
    }
   ],
   "source": [
    "df[df['starred']].groupby(['hostname'])['url'].count().nlargest(16)"
   ]
  },
  {
   "cell_type": "markdown",
   "metadata": {},
   "source": [
    "Выбираем 8 наиболее читаемых сайтов из лучших постов"
   ]
  },
  {
   "cell_type": "code",
   "execution_count": 15,
   "metadata": {},
   "outputs": [
    {
     "data": {
      "text/plain": [
       "hostname\n",
       "habrahabr.ru             8\n",
       "baguzin.ru               5\n",
       "www.cockroachlabs.com    4\n",
       "geektimes.ru             2\n",
       "github.com               2\n",
       "telegra.ph               2\n",
       "antirez.com              1\n",
       "apenwarr.ca              1\n",
       "Name: url, dtype: int64"
      ]
     },
     "execution_count": 15,
     "metadata": {},
     "output_type": "execute_result"
    }
   ],
   "source": [
    "df[df['tag'] == 'Favorites'].groupby(['hostname'])['url'].count().nlargest(8)"
   ]
  },
  {
   "cell_type": "markdown",
   "metadata": {},
   "source": [
    "Суммарное время чтения всех постов"
   ]
  },
  {
   "cell_type": "code",
   "execution_count": 16,
   "metadata": {},
   "outputs": [
    {
     "data": {
      "text/plain": [
       "'4 days, 11:46:00'"
      ]
     },
     "execution_count": 16,
     "metadata": {},
     "output_type": "execute_result"
    }
   ],
   "source": [
    "str(timedelta(minutes=df['read_time'].sum()))"
   ]
  },
  {
   "cell_type": "markdown",
   "metadata": {},
   "source": [
    "Статистика по времени чтения постов"
   ]
  },
  {
   "cell_type": "code",
   "execution_count": 17,
   "metadata": {},
   "outputs": [
    {
     "data": {
      "text/plain": [
       "count    1039.000000\n",
       "mean        6.223292\n",
       "std         8.968485\n",
       "min         0.000000\n",
       "25%         2.000000\n",
       "50%         4.000000\n",
       "75%         7.000000\n",
       "max        98.000000\n",
       "Name: read_time, dtype: float64"
      ]
     },
     "execution_count": 17,
     "metadata": {},
     "output_type": "execute_result"
    }
   ],
   "source": [
    "df['read_time'].describe()"
   ]
  },
  {
   "cell_type": "markdown",
   "metadata": {},
   "source": [
    "Средние времся чтения статьи на 16 наиболее популярных сайтах"
   ]
  },
  {
   "cell_type": "code",
   "execution_count": 18,
   "metadata": {},
   "outputs": [
    {
     "data": {
      "text/html": [
       "<div>\n",
       "<style scoped>\n",
       "    .dataframe tbody tr th:only-of-type {\n",
       "        vertical-align: middle;\n",
       "    }\n",
       "\n",
       "    .dataframe tbody tr th {\n",
       "        vertical-align: top;\n",
       "    }\n",
       "\n",
       "    .dataframe thead th {\n",
       "        text-align: right;\n",
       "    }\n",
       "</style>\n",
       "<table border=\"1\" class=\"dataframe\">\n",
       "  <thead>\n",
       "    <tr style=\"text-align: right;\">\n",
       "      <th></th>\n",
       "      <th>mean</th>\n",
       "      <th>count</th>\n",
       "    </tr>\n",
       "    <tr>\n",
       "      <th>hostname</th>\n",
       "      <th></th>\n",
       "      <th></th>\n",
       "    </tr>\n",
       "  </thead>\n",
       "  <tbody>\n",
       "    <tr>\n",
       "      <th>habrahabr.ru</th>\n",
       "      <td>6.888889</td>\n",
       "      <td>315</td>\n",
       "    </tr>\n",
       "    <tr>\n",
       "      <th>geektimes.ru</th>\n",
       "      <td>3.292683</td>\n",
       "      <td>123</td>\n",
       "    </tr>\n",
       "    <tr>\n",
       "      <th>baguzin.ru</th>\n",
       "      <td>20.190476</td>\n",
       "      <td>42</td>\n",
       "    </tr>\n",
       "    <tr>\n",
       "      <th>github.com</th>\n",
       "      <td>9.567568</td>\n",
       "      <td>37</td>\n",
       "    </tr>\n",
       "    <tr>\n",
       "      <th>medium.com</th>\n",
       "      <td>4.413793</td>\n",
       "      <td>29</td>\n",
       "    </tr>\n",
       "    <tr>\n",
       "      <th>blog.jetbrains.com</th>\n",
       "      <td>2.520000</td>\n",
       "      <td>25</td>\n",
       "    </tr>\n",
       "    <tr>\n",
       "      <th>www.cockroachlabs.com</th>\n",
       "      <td>5.083333</td>\n",
       "      <td>24</td>\n",
       "    </tr>\n",
       "    <tr>\n",
       "      <th>www.yegor256.com</th>\n",
       "      <td>2.666667</td>\n",
       "      <td>21</td>\n",
       "    </tr>\n",
       "    <tr>\n",
       "      <th>coreos.com</th>\n",
       "      <td>3.764706</td>\n",
       "      <td>17</td>\n",
       "    </tr>\n",
       "    <tr>\n",
       "      <th>www.dpreview.com</th>\n",
       "      <td>24.687500</td>\n",
       "      <td>16</td>\n",
       "    </tr>\n",
       "    <tr>\n",
       "      <th>aws.amazon.com</th>\n",
       "      <td>5.666667</td>\n",
       "      <td>15</td>\n",
       "    </tr>\n",
       "    <tr>\n",
       "      <th>www.mirantis.com</th>\n",
       "      <td>4.066667</td>\n",
       "      <td>15</td>\n",
       "    </tr>\n",
       "    <tr>\n",
       "      <th>www.youtube.com</th>\n",
       "      <td>1.076923</td>\n",
       "      <td>13</td>\n",
       "    </tr>\n",
       "    <tr>\n",
       "      <th>ru.wikipedia.org</th>\n",
       "      <td>3.090909</td>\n",
       "      <td>11</td>\n",
       "    </tr>\n",
       "    <tr>\n",
       "      <th>eax.me</th>\n",
       "      <td>2.500000</td>\n",
       "      <td>10</td>\n",
       "    </tr>\n",
       "    <tr>\n",
       "      <th>blog.rust-lang.org</th>\n",
       "      <td>4.800000</td>\n",
       "      <td>10</td>\n",
       "    </tr>\n",
       "  </tbody>\n",
       "</table>\n",
       "</div>"
      ],
      "text/plain": [
       "                            mean  count\n",
       "hostname                               \n",
       "habrahabr.ru            6.888889    315\n",
       "geektimes.ru            3.292683    123\n",
       "baguzin.ru             20.190476     42\n",
       "github.com              9.567568     37\n",
       "medium.com              4.413793     29\n",
       "blog.jetbrains.com      2.520000     25\n",
       "www.cockroachlabs.com   5.083333     24\n",
       "www.yegor256.com        2.666667     21\n",
       "coreos.com              3.764706     17\n",
       "www.dpreview.com       24.687500     16\n",
       "aws.amazon.com          5.666667     15\n",
       "www.mirantis.com        4.066667     15\n",
       "www.youtube.com         1.076923     13\n",
       "ru.wikipedia.org        3.090909     11\n",
       "eax.me                  2.500000     10\n",
       "blog.rust-lang.org      4.800000     10"
      ]
     },
     "execution_count": 18,
     "metadata": {},
     "output_type": "execute_result"
    }
   ],
   "source": [
    "df.sort_values(by=['hostname'])\\\n",
    "    .groupby(['hostname'])['read_time']\\\n",
    "    .agg(['mean', 'count'])\\\n",
    "    .sort_values(['count'], ascending=False)\\\n",
    "    .head(16)"
   ]
  },
  {
   "cell_type": "code",
   "execution_count": null,
   "metadata": {},
   "outputs": [],
   "source": []
  }
 ],
 "metadata": {
  "kernelspec": {
   "display_name": "Python 3",
   "language": "python",
   "name": "python3"
  },
  "language_info": {
   "codemirror_mode": {
    "name": "ipython",
    "version": 3
   },
   "file_extension": ".py",
   "mimetype": "text/x-python",
   "name": "python",
   "nbconvert_exporter": "python",
   "pygments_lexer": "ipython3",
   "version": "3.6.4"
  }
 },
 "nbformat": 4,
 "nbformat_minor": 2
}
